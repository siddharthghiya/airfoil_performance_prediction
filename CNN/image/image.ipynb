{
 "cells": [
  {
   "cell_type": "code",
   "execution_count": 5,
   "metadata": {},
   "outputs": [],
   "source": [
    "import matplotlib.pyplot as plt\n",
    "import matplotlib.image as mpimg\n",
    "import numpy as np\n"
   ]
  },
  {
   "cell_type": "code",
   "execution_count": 33,
   "metadata": {},
   "outputs": [
    {
     "data": {
      "image/png": "[encoded data removed]",
      "text/plain": [
       "<Figure size 432x288 with 6 Axes>"
      ]
     },
     "metadata": {},
     "output_type": "display_data"
    }
   ],
   "source": [
    "img0 = mpimg.imread('NACA2414_20.png')\n",
    "#plt.imshow(img,cmap = 'gray')\n",
    "img1 = mpimg.imread('NACA2415_-16.png')\n",
    "#plt.imshow(img,cmap = 'gray')\n",
    "img2 = mpimg.imread('NACA2415_6.png')\n",
    "#plt.imshow(img,cmap = 'gray')\n",
    "img3 = mpimg.imread('NACA2421_4.png')\n",
    "#plt.imshow(img,cmap = 'gray')\n",
    "#img4 = mpimg.imread('NACA2421_4.png')\n",
    "img4 = mpimg.imread('NACA4412_-20.png')\n",
    "#plt.imshow(img,cmap = 'gray')\n",
    "img5 = mpimg.imread('NACA4415_0.png')\n",
    "\n",
    "#plt.figure(1,figsize=(4,5))\n",
    "f, axarr = plt.subplots(2,3)\n",
    "axarr[0,0].imshow(img0,cmap = 'gray',origin = 'lower')\n",
    "axarr[0,1].imshow(img1, cmap = 'gray',origin = 'lower')\n",
    "axarr[1,0].imshow(img2, cmap = 'gray', origin = 'lower')\n",
    "axarr[1,1].imshow(img3,cmap = 'gray', origin = 'lower')\n",
    "axarr[0,2].imshow(img4,cmap = 'gray', origin = 'lower')\n",
    "axarr[1,2].imshow(img5, cmap = 'gray', origin = 'lower')\n",
    "plt.axis([0,64,0,64])\n",
    "plt.show()\n",
    "#plt.show"
   ]
  },
  {
   "cell_type": "code",
   "execution_count": null,
   "metadata": {},
   "outputs": [],
   "source": []
  }
 ],
 "metadata": {
  "kernelspec": {
   "display_name": "Python 3",
   "language": "python",
   "name": "python3"
  },
  "language_info": {
   "codemirror_mode": {
    "name": "ipython",
    "version": 3
   },
   "file_extension": ".py",
   "mimetype": "text/x-python",
   "name": "python",
   "nbconvert_exporter": "python",
   "pygments_lexer": "ipython3",
   "version": "3.6.5"
  }
 },
 "nbformat": 4,
 "nbformat_minor": 2
}
