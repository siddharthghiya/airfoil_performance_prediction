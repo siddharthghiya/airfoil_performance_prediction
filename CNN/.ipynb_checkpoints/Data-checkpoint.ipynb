{
 "cells": [
  {
   "cell_type": "code",
   "execution_count": 12,
   "metadata": {},
   "outputs": [],
   "source": [
    "import numpy as np\n",
    "import torch\n",
    "import scipy\n",
    "import csv\n",
    "import matplotlib.pyplot as plt\n",
    "from PIL import Image\n",
    "from skimage.transform import rescale, resize, downscale_local_mean\n",
    "import glob\n",
    "import os"
   ]
  },
  {
   "cell_type": "code",
   "execution_count": 13,
   "metadata": {},
   "outputs": [],
   "source": [
    "airfoil_file=[os.path.basename(x) for x in glob.glob('./data_geometry/*.txt')]\n",
    "airfoil_list =[i.rsplit('.',1)[0] for i in airfoil_file]\n",
    "my_dpi=288\n",
    "\n",
    "for file in airfoil_list:\n",
    "    data = np.loadtxt('./data_geometry/%s.txt' % (file),skiprows = 1)\n",
    "    data = data.T\n",
    "     \n",
    "    #looping thoruhg different angles\n",
    "    for alpha in range(-20,21):\n",
    "        theta = alpha*np.pi/180\n",
    "        \n",
    "        #changing the origin to (0.5,0)\n",
    "        data_R = data - scipy.array([[0.5],[0]])\n",
    "        \n",
    "        #rotation matrix\n",
    "        R = scipy.array([[np.cos(-theta),-np.sin(-theta)],\n",
    "                         [np.sin(-theta),np.cos(-theta)]])\n",
    "        data1 = R @ data_R\n",
    "        \n",
    "        #changing origin back to (0,0) and extracting X and Y\n",
    "        data1 = data1 + scipy.array([[0.5],[0]])\n",
    "        X = data1[0,:]\n",
    "        Y = data1[1,:] \n",
    "        \n",
    "        \n",
    "        plt.figure(figsize = (128/my_dpi, 128/my_dpi), dpi=my_dpi)\n",
    "        plt.fill(X,Y)\n",
    "        plt.axis('off')\n",
    "        plt.xlim(-0.1,1.1)\n",
    "        plt.ylim(-0.5,0.5)\n",
    "        plt.gca().set_aspect('equal')\n",
    "        plt.savefig('./data_images/%s_%s.png' % (file,alpha),dpi=my_dpi)\n",
    "        plt.close()\n",
    "        \n",
    "        image = Image.open('./data_images/%s_%s.png' % (file,alpha)).convert('L')\n",
    "        image.save('./data_images/%s_%s.png' % (file,alpha))"
   ]
  },
  {
   "cell_type": "code",
   "execution_count": 8,
   "metadata": {},
   "outputs": [
    {
     "ename": "UnicodeDecodeError",
     "evalue": "'utf-8' codec can't decode byte 0xb0 in position 212: invalid start byte",
     "output_type": "error",
     "traceback": [
      "\u001b[0;31m---------------------------------------------------------------------------\u001b[0m",
      "\u001b[0;31mUnicodeDecodeError\u001b[0m                        Traceback (most recent call last)",
      "\u001b[0;32m<ipython-input-8-cfc5df0a928c>\u001b[0m in \u001b[0;36m<module>\u001b[0;34m()\u001b[0m\n\u001b[1;32m     20\u001b[0m \u001b[0;34m\u001b[0m\u001b[0m\n\u001b[1;32m     21\u001b[0m \u001b[0;32mfor\u001b[0m \u001b[0mfile\u001b[0m \u001b[0;32min\u001b[0m \u001b[0mairfoil_list\u001b[0m\u001b[0;34m:\u001b[0m\u001b[0;34m\u001b[0m\u001b[0m\n\u001b[0;32m---> 22\u001b[0;31m     \u001b[0mdata\u001b[0m \u001b[0;34m=\u001b[0m \u001b[0mopen\u001b[0m\u001b[0;34m(\u001b[0m\u001b[0;34m'./data_RAW/%s.txt'\u001b[0m \u001b[0;34m%\u001b[0m \u001b[0mfile\u001b[0m\u001b[0;34m)\u001b[0m\u001b[0;34m.\u001b[0m\u001b[0mread\u001b[0m\u001b[0;34m(\u001b[0m\u001b[0;34m)\u001b[0m\u001b[0;34m\u001b[0m\u001b[0m\n\u001b[0m\u001b[1;32m     23\u001b[0m     \u001b[0mk\u001b[0m \u001b[0;34m=\u001b[0m \u001b[0;36m0\u001b[0m\u001b[0;34m\u001b[0m\u001b[0m\n\u001b[1;32m     24\u001b[0m     \u001b[0;32mfor\u001b[0m \u001b[0midx\u001b[0m\u001b[0;34m,\u001b[0m\u001b[0mline\u001b[0m \u001b[0;32min\u001b[0m \u001b[0menumerate\u001b[0m\u001b[0;34m(\u001b[0m\u001b[0mdata\u001b[0m\u001b[0;34m)\u001b[0m\u001b[0;34m:\u001b[0m\u001b[0;34m\u001b[0m\u001b[0m\n",
      "\u001b[0;32m~/anaconda3/lib/python3.6/codecs.py\u001b[0m in \u001b[0;36mdecode\u001b[0;34m(self, input, final)\u001b[0m\n\u001b[1;32m    319\u001b[0m         \u001b[0;31m# decode input (taking the buffer into account)\u001b[0m\u001b[0;34m\u001b[0m\u001b[0;34m\u001b[0m\u001b[0m\n\u001b[1;32m    320\u001b[0m         \u001b[0mdata\u001b[0m \u001b[0;34m=\u001b[0m \u001b[0mself\u001b[0m\u001b[0;34m.\u001b[0m\u001b[0mbuffer\u001b[0m \u001b[0;34m+\u001b[0m \u001b[0minput\u001b[0m\u001b[0;34m\u001b[0m\u001b[0m\n\u001b[0;32m--> 321\u001b[0;31m         \u001b[0;34m(\u001b[0m\u001b[0mresult\u001b[0m\u001b[0;34m,\u001b[0m \u001b[0mconsumed\u001b[0m\u001b[0;34m)\u001b[0m \u001b[0;34m=\u001b[0m \u001b[0mself\u001b[0m\u001b[0;34m.\u001b[0m\u001b[0m_buffer_decode\u001b[0m\u001b[0;34m(\u001b[0m\u001b[0mdata\u001b[0m\u001b[0;34m,\u001b[0m \u001b[0mself\u001b[0m\u001b[0;34m.\u001b[0m\u001b[0merrors\u001b[0m\u001b[0;34m,\u001b[0m \u001b[0mfinal\u001b[0m\u001b[0;34m)\u001b[0m\u001b[0;34m\u001b[0m\u001b[0m\n\u001b[0m\u001b[1;32m    322\u001b[0m         \u001b[0;31m# keep undecoded input until the next call\u001b[0m\u001b[0;34m\u001b[0m\u001b[0;34m\u001b[0m\u001b[0m\n\u001b[1;32m    323\u001b[0m         \u001b[0mself\u001b[0m\u001b[0;34m.\u001b[0m\u001b[0mbuffer\u001b[0m \u001b[0;34m=\u001b[0m \u001b[0mdata\u001b[0m\u001b[0;34m[\u001b[0m\u001b[0mconsumed\u001b[0m\u001b[0;34m:\u001b[0m\u001b[0;34m]\u001b[0m\u001b[0;34m\u001b[0m\u001b[0m\n",
      "\u001b[0;31mUnicodeDecodeError\u001b[0m: 'utf-8' codec can't decode byte 0xb0 in position 212: invalid start byte"
     ]
    }
   ],
   "source": [
    "re_key= np.linspace(5,757,17)\n",
    "re_dict={}\n",
    "\n",
    "lines_index = list()\n",
    "for key in re_key:\n",
    "    for i in range(41):\n",
    "        lines_index.append(key+i)\n",
    "\n",
    "for idx,key in enumerate(re_key):\n",
    "    re_dict[key]=30000+ idx*400000 \n",
    "    \n",
    "airfoil_file=[os.path.basename(x) for x in glob.glob('./data_RAW/*.txt')]\n",
    "airfoil_list =[i.rsplit('.',1)[0] for i in airfoil_file]\n",
    "\n",
    "name = list()\n",
    "re_list = list()\n",
    "alpha_list = list()\n",
    "cl_list = list()\n",
    "cd_list = list()\n",
    "\n",
    "for file in airfoil_list:\n",
    "    data = open('./data_RAW/%s.txt' % file)\n",
    "    k = 0\n",
    "    for idx,line in enumerate(data):\n",
    "        if idx in lines_index:\n",
    "            if k == 41:\n",
    "                k = 0\n",
    "                \n",
    "            wordlist=line.split()\n",
    "\n",
    "            name.append('NACA' + file)\n",
    "            re_list.append(re_dict[idx-k])\n",
    "            alpha_list.append(wordlist[0])\n",
    "            cl_list.append(wordlist[1])\n",
    "            cd_list.append(wordlist[2])\n",
    "            k +=1\n",
    "            \n",
    "final_data = np.column_stack((np.array(name),np.array(re_list),np.array(alpha_list),np.array(cl_list),np.array(cd_list)))\n",
    "\n",
    "np.save(\"data\",final_data)"
   ]
  },
  {
   "cell_type": "code",
   "execution_count": null,
   "metadata": {},
   "outputs": [],
   "source": []
  }
 ],
 "metadata": {
  "kernelspec": {
   "display_name": "Python 3",
   "language": "python",
   "name": "python3"
  },
  "language_info": {
   "codemirror_mode": {
    "name": "ipython",
    "version": 3
   },
   "file_extension": ".py",
   "mimetype": "text/x-python",
   "name": "python",
   "nbconvert_exporter": "python",
   "pygments_lexer": "ipython3",
   "version": "3.6.5"
  }
 },
 "nbformat": 4,
 "nbformat_minor": 2
}
