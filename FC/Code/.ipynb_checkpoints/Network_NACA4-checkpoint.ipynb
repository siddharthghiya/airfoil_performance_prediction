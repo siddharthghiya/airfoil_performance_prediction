{
 "cells": [
  {
   "cell_type": "code",
   "execution_count": 1,
   "metadata": {},
   "outputs": [],
   "source": [
    "import torch\n",
    "import torchvision\n",
    "import torchvision.transforms as transforms\n",
    "from torch.autograd import Variable\n",
    "import torch.nn as nn\n",
    "import torch.nn.functional as F\n",
    "\n",
    "import csv\n",
    "import ipdb\n",
    "import sys\n",
    "import numpy as np\n",
    "import base64\n",
    "import os\n",
    "import random\n",
    "import numpy as np\n",
    "import json\n",
    "import matplotlib.pyplot as plt\n",
    "from matplotlib.pyplot import imshow\n",
    "import matplotlib.image as mpimg"
   ]
  },
  {
   "cell_type": "code",
   "execution_count": 2,
   "metadata": {},
   "outputs": [],
   "source": [
    "class network(nn.Module):\n",
    "    def __init__(self,input_nodes,hidden_nodes,output_nodes):\n",
    "        super(network, self).__init__()\n",
    "        self.fc1= nn.Linear(input_nodes,hidden_nodes)\n",
    "        nn.init.xavier_uniform_(self.fc1.weight)\n",
    "        self.bn1 = nn.BatchNorm1d(num_features=hidden_nodes)\n",
    "        \n",
    "        self.fc2= nn.Linear(hidden_nodes,hidden_nodes)\n",
    "        nn.init.xavier_uniform_(self.fc2.weight)\n",
    "        self.bn2 = nn.BatchNorm1d(num_features=hidden_nodes)\n",
    "        \n",
    "        self.fc3=nn.Linear(hidden_nodes,output_nodes)\n",
    "        nn.init.xavier_uniform_(self.fc3.weight)      \n",
    "        \n",
    "    def forward(self,X):\n",
    "        X = torch.tanh(self.bn1(self.fc1(X)))\n",
    "        X = self.fc2(X)\n",
    "        X = F.dropout2d(X,p=0.5)\n",
    "        X = torch.tanh(X)\n",
    "        out = self.fc3(X)\n",
    "        return out  "
   ]
  },
  {
   "cell_type": "code",
   "execution_count": 3,
   "metadata": {},
   "outputs": [],
   "source": [
    "def getdataloaders(data, batch_size = 50):\n",
    "    \n",
    "    np.random.shuffle(data)\n",
    "    batches=[]\n",
    "    \n",
    "    data[:,4:6]-=data[:,4:6].mean(0)\n",
    "    data[:,4:6]/=data[:,4:6].var(0)\n",
    "    \n",
    "    train_data1=data[:15000,:]\n",
    "    test_data1=data[15000:,:]\n",
    "\n",
    "    #creating train batches\n",
    "    train_batch_number = int(train_data1.shape[0]/batch_size)\n",
    "    train_data = train_data1[0:batch_size,:]\n",
    "    \n",
    "    for idx in range(1,train_batch_number):\n",
    "        data = train_data1[idx*batch_size:(idx + 1)*batch_size,:]\n",
    "        train_data=np.dstack((train_data,data))\n",
    "        \n",
    "    train_data = np.transpose(train_data, (2, 0, 1))\n",
    "    \n",
    "    #creating test batches\n",
    "    test_batch_number = int(test_data1.shape[0]/batch_size)\n",
    "    test_data = test_data1[0:batch_size,:]\n",
    "    \n",
    "    for idx in range(1,test_batch_number):\n",
    "        data = test_data1[idx*batch_size:(idx + 1)*batch_size,:]\n",
    "        test_data=np.dstack((test_data,data))\n",
    "        \n",
    "    test_data = np.transpose(test_data, (2, 0, 1))\n",
    "    \n",
    "    return train_data, test_data"
   ]
  },
  {
   "cell_type": "code",
   "execution_count": 4,
   "metadata": {},
   "outputs": [],
   "source": [
    "def train(trainloader, optimizer, criterion, epoch, net, scope = 'cl'):\n",
    "    \n",
    "    net.train()\n",
    "    train_loss_sum = 0\n",
    "    for idx in range(trainloader.size(0)):\n",
    "        if scope == 'cl':\n",
    "            target = trainloader[idx,:,6].reshape(trainloader.size(1),1)\n",
    "        if scope == 'cd':\n",
    "            target = trainloader[idx,:,7].reshape(trainloader.size(1),1)\n",
    "        digits = trainloader[idx,:,:4]\n",
    "        \n",
    "        #creating one hot vector\n",
    "        one_hot_vectors = torch.zeros([42,trainloader.size(1)])\n",
    "        for ndx,row in enumerate(digits):\n",
    "            row = row.reshape(row.size(0),1)\n",
    "            row = row.long()\n",
    "            num_classes = 10\n",
    "            one_hot_digits = (row == torch.arange(num_classes).reshape(1, num_classes)).float()\n",
    "            one_hot_digits = one_hot_digits.reshape(-1,1)\n",
    "            #trainloader[idx,ndx,4:6]-=trainloader[idx,ndx,4:6].mean(0)\n",
    "            #trainloader[idx,ndx,4:6]/=trainloader[idx,ndx,4:6].var(0)\n",
    "            one_hot_vector = torch.cat((one_hot_digits,trainloader[idx,ndx,4:6].reshape(2,1).float()),0)\n",
    "            one_hot_vector = one_hot_vector.reshape(one_hot_vector.size(),1)\n",
    "            one_hot_vectors[:,ndx] = one_hot_vector[:,0]\n",
    "            \n",
    "        one_hot_vectors = torch.t(one_hot_vectors)\n",
    "        \n",
    "        output = net.forward(one_hot_vectors)\n",
    "        loss = criterion(output,target.float())\n",
    "        optimizer.zero_grad()\n",
    "        loss.backward()\n",
    "        optimizer.step() \n",
    "        train_loss_sum += float(loss)\n",
    "    train_loss = train_loss_sum/trainloader.size(0)\n",
    "    return train_loss\n",
    "        \n",
    "def test(testloader, criterion, epoch, epochs, net, scope = 'cl'):\n",
    "    net.eval()\n",
    "    test_loss_sum = 0\n",
    "    final_output = []\n",
    "    for idx in range(testloader.size(0)):\n",
    "        if scope == 'cl':\n",
    "            target = testloader[idx,:,6].reshape(testloader.size(1),1)\n",
    "        if scope == 'cd':\n",
    "            target = testloader[idx,:,7].reshape(testloader.size(1),1)\n",
    "        digits = testloader[idx,:,:4]\n",
    "        if idx == 7 and epoch == 29:\n",
    "            print('original',testloader[7,2,:])\n",
    "\n",
    "        #creating one hot vector\n",
    "        one_hot_vectors = torch.zeros([42,testloader.size(1)])\n",
    "        for ndx,row in enumerate(digits):\n",
    "            row = row.reshape(row.size(0),1)\n",
    "            row = row.long()\n",
    "            num_classes = 10\n",
    "            one_hot_digits = (row == torch.arange(num_classes).reshape(1, num_classes)).float()\n",
    "            one_hot_digits = one_hot_digits.reshape(-1,1)\n",
    "            #testloader[idx,ndx,4:6]-=testloader[idx,ndx,4:6].mean(0)\n",
    "            #testloader[idx,ndx,4:6]/=testloader[idx,ndx,4:6].var(0)\n",
    "            one_hot_vector = torch.cat((one_hot_digits,testloader[idx,ndx,4:6].reshape(2,1).float()),0)\n",
    "            one_hot_vector = one_hot_vector.reshape(one_hot_vector.size(),1)\n",
    "            one_hot_vectors[:,ndx] = one_hot_vector[:,0]\n",
    "            \n",
    "        one_hot_vectors = torch.t(one_hot_vectors)\n",
    "        output = net.forward(one_hot_vectors)\n",
    "        \n",
    "        if idx == 7 and epoch == 29:\n",
    "            print(output[2])\n",
    "        loss = criterion(output,target.float())\n",
    "        test_loss_sum += float(loss) \n",
    "        \n",
    "        if epoch == epochs - 1: \n",
    "            output = output.detach().numpy()\n",
    "            final_output.append(output)\n",
    "        else:\n",
    "            final_output = 0\n",
    "\n",
    "    test_loss = test_loss_sum/testloader.size(0)\n",
    "    \n",
    "    return final_output, test_loss"
   ]
  },
  {
   "cell_type": "code",
   "execution_count": 5,
   "metadata": {},
   "outputs": [],
   "source": [
    "def plot_loss(x,y):\n",
    "    plt.plot(x,y)\n",
    "    plt.show()"
   ]
  },
  {
   "cell_type": "code",
   "execution_count": 7,
   "metadata": {},
   "outputs": [
    {
     "name": "stdout",
     "output_type": "stream",
     "text": [
      "original tensor([ 1.0000,  4.0000,  1.0000,  2.0000, -0.0000, -0.0214, -0.2300,  0.0107],\n",
      "       dtype=torch.float64)\n",
      "tensor([-0.2312], grad_fn=<SelectBackward>)\n"
     ]
    },
    {
     "data": {
      "text/plain": [
       "[<matplotlib.lines.Line2D at 0x200182e4588>]"
      ]
     },
     "execution_count": 7,
     "metadata": {},
     "output_type": "execute_result"
    },
    {
     "data": {
      "image/png": "[encoded data removed]",
      "text/plain": [
       "<Figure size 432x288 with 1 Axes>"
      ]
     },
     "metadata": {},
     "output_type": "display_data"
    }
   ],
   "source": [
    "input_nodes = 42\n",
    "hidden_nodes = 60\n",
    "output_nodes = 1\n",
    "batch_number = 50\n",
    "learning_rate = 0.005\n",
    "epochs = 50\n",
    "\n",
    "#loading the data\n",
    "data=np.load(\"data_float.npy\")\n",
    "train_data,test_data = getdataloaders(data, batch_number)\n",
    "trainloader = torch.from_numpy(train_data)\n",
    "testloader = torch.from_numpy(test_data)\n",
    "\n",
    "#creating the network and defining loss function\n",
    "cl_net = network(input_nodes,hidden_nodes,output_nodes)\n",
    "optimizer = torch.optim.Adam(cl_net.parameters(), lr=learning_rate)\n",
    "criterion = nn.MSELoss()\n",
    "\n",
    "#training the network\\\n",
    "train_loss_list = []\n",
    "test_loss_list = []\n",
    "epoch_list = []\n",
    "for epoch in range(epochs):\n",
    "    train_loss = train(trainloader, optimizer, criterion, epoch, cl_net, scope = 'cl')\n",
    "    final_data, test_loss = test(testloader, criterion, epoch, epochs, cl_net, scope = 'cl')\n",
    "    train_loss_list.append(train_loss)\n",
    "    test_loss_list.append(test_loss)\n",
    "    epoch_list.append(epoch)\n",
    "\n",
    "#plotting the losses\n",
    "plt.plot(epoch_list,train_loss_list)\n",
    "plt.plot(epoch_list,test_loss_list)"
   ]
  },
  {
   "cell_type": "code",
   "execution_count": 10,
   "metadata": {},
   "outputs": [
    {
     "data": {
      "text/plain": [
       "<matplotlib.legend.Legend at 0x7fd43c41f8d0>"
      ]
     },
     "execution_count": 10,
     "metadata": {},
     "output_type": "execute_result"
    },
    {
     "data": {
      "image/png": "[encoded data removed]",
      "text/plain": [
       "<Figure size 432x288 with 1 Axes>"
      ]
     },
     "metadata": {},
     "output_type": "display_data"
    }
   ],
   "source": [
    "#plotting the losses\n",
    "plt.plot(epoch_list,train_loss_list,label = 'Train')\n",
    "plt.plot(epoch_list,test_loss_list,label = 'Test')\n",
    "plt.xlabel(\"Epochs\",fontsize='x-large')\n",
    "plt.ylabel(\"Loss\",fontsize='x-large')\n",
    "plt.legend(fontsize='x-large')"
   ]
  },
  {
   "cell_type": "code",
   "execution_count": 18,
   "metadata": {},
   "outputs": [
    {
     "name": "stdout",
     "output_type": "stream",
     "text": [
      "accuracy for FC netowrok is  0.8819607161284142\n"
     ]
    }
   ],
   "source": [
    "test_data = test_data.reshape(-1,8)\n",
    "final_data = np.array(final_data)\n",
    "final_data = final_data.reshape(-1,1)\n",
    "\n",
    "accuracy = 1 - np.abs(test_data[:,6].astype(float) - final_data[:,0].astype(float))/np.maximum(np.abs(test_data[:,6].astype(float)),np.abs(final_data[:,0].astype(float)))\n",
    "net_accuracy = np.average(accuracy)\n",
    "print('accuracy for FC netowrok is ',net_accuracy * 100)"
   ]
  },
  {
   "cell_type": "code",
   "execution_count": null,
   "metadata": {},
   "outputs": [],
   "source": []
  },
  {
   "cell_type": "code",
   "execution_count": null,
   "metadata": {},
   "outputs": [],
   "source": []
  }
 ],
 "metadata": {
  "kernelspec": {
   "display_name": "Python 3",
   "language": "python",
   "name": "python3"
  },
  "language_info": {
   "codemirror_mode": {
    "name": "ipython",
    "version": 3
   },
   "file_extension": ".py",
   "mimetype": "text/x-python",
   "name": "python",
   "nbconvert_exporter": "python",
   "pygments_lexer": "ipython3",
   "version": "3.6.5"
  }
 },
 "nbformat": 4,
 "nbformat_minor": 2
}
