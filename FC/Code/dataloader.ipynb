{
 "cells": [
  {
   "cell_type": "code",
   "execution_count": 1,
   "metadata": {},
   "outputs": [],
   "source": [
    "import numpy as np\n",
    "import os \n",
    "import re\n",
    "import glob"
   ]
  },
  {
   "cell_type": "code",
   "execution_count": 2,
   "metadata": {},
   "outputs": [
    {
     "name": "stdout",
     "output_type": "stream",
     "text": [
      "28\n"
     ]
    }
   ],
   "source": [
    "re_key= np.linspace(5,757,17)\n",
    "re_dict={}\n",
    "\n",
    "lines_index = list()\n",
    "for key in re_key:\n",
    "    for i in range(41):\n",
    "        lines_index.append(key+i)\n",
    "\n",
    "for idx,key in enumerate(re_key):\n",
    "    re_dict[key]=30000+ idx*400000 \n",
    "    \n",
    "airfoil_file=[os.path.basename(x) for x in glob.glob('../data/*.txt')]\n",
    "airfoil_list =[i.rsplit('.',1)[0] for i in airfoil_file]\n",
    "\n",
    "print(len(airfoil_list))"
   ]
  },
  {
   "cell_type": "code",
   "execution_count": 3,
   "metadata": {},
   "outputs": [
    {
     "name": "stdout",
     "output_type": "stream",
     "text": [
      "dict_keys([5.0, 52.0, 99.0, 146.0, 193.0, 240.0, 287.0, 334.0, 381.0, 428.0, 475.0, 522.0, 569.0, 616.0, 663.0, 710.0, 757.0])\n"
     ]
    }
   ],
   "source": [
    "print(re_dict.keys())"
   ]
  },
  {
   "cell_type": "code",
   "execution_count": 4,
   "metadata": {},
   "outputs": [],
   "source": [
    "digit_0 = list()\n",
    "digit_1 = list()\n",
    "digit_2 = list()\n",
    "digit_3 = list()\n",
    "re_list = list()\n",
    "alpha_list = list()\n",
    "cl_list = list()\n",
    "cd_list = list()\n",
    "\n",
    "for file in airfoil_list:\n",
    "    data = open('../data/%s.txt' % file)\n",
    "    k = 0\n",
    "    for idx,line in enumerate(data):\n",
    "        if idx in lines_index:\n",
    "            if k == 41:\n",
    "                k = 0\n",
    "                \n",
    "            digit_0.append(file[0])\n",
    "            digit_1.append(file[1])\n",
    "            digit_2.append(file[2])\n",
    "            digit_3.append(file[3])\n",
    "                \n",
    "            wordlist=line.split()\n",
    "\n",
    "            re_list.append(re_dict[idx-k])\n",
    "            alpha_list.append(wordlist[0])\n",
    "            cl_list.append(wordlist[1])\n",
    "            cd_list.append(wordlist[2])\n",
    "            k +=1"
   ]
  },
  {
   "cell_type": "code",
   "execution_count": 5,
   "metadata": {},
   "outputs": [],
   "source": [
    "final_data = np.column_stack((np.array(digit_0),np.array(digit_1),np.array(digit_2),np.array(digit_3),np.array(re_list),np.array(alpha_list),np.array(cl_list),np.array(cd_list)))"
   ]
  },
  {
   "cell_type": "code",
   "execution_count": 6,
   "metadata": {},
   "outputs": [
    {
     "name": "stdout",
     "output_type": "stream",
     "text": [
      "(19516, 8)\n"
     ]
    }
   ],
   "source": [
    "np.save(\"data\",final_data)\n",
    "final_data= final_data.astype(float)\n",
    "print(final_data.shape)\n",
    "np.savetxt(\"data.csv\", final_data, delimiter=\",\", fmt='%.5f')\n",
    "np.save(\"data_float\",final_data)"
   ]
  },
  {
   "cell_type": "code",
   "execution_count": null,
   "metadata": {},
   "outputs": [],
   "source": []
  }
 ],
 "metadata": {
  "kernelspec": {
   "display_name": "Python 3",
   "language": "python",
   "name": "python3"
  },
  "language_info": {
   "codemirror_mode": {
    "name": "ipython",
    "version": 3
   },
   "file_extension": ".py",
   "mimetype": "text/x-python",
   "name": "python",
   "nbconvert_exporter": "python",
   "pygments_lexer": "ipython3",
   "version": "3.6.5"
  }
 },
 "nbformat": 4,
 "nbformat_minor": 2
}
